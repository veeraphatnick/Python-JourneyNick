{
 "cells": [
  {
   "cell_type": "code",
   "execution_count": null,
   "metadata": {},
   "outputs": [],
   "source": [
    "import pandas as pd \n",
    "\n",
    "df = pd.read_csv(\"datasets/avocado.csv\")\n",
    "\n",
    "albany_df = df[df['region']==\"Albany\"]\n",
    "albany_df.set_index(\"Date\", inplace=True)\n",
    "\n",
    "albany_df[\"AveragePrice\"].plot()"
   ]
  },
  {
   "cell_type": "code",
   "execution_count": null,
   "metadata": {},
   "outputs": [],
   "source": [
    "df = pd.read_csv(\"datasets/avocado.csv\")\n",
    "\n",
    "df['Date'] = pd.to_datetime(df['Date'])"
   ]
  },
  {
   "cell_type": "code",
   "execution_count": null,
   "metadata": {},
   "outputs": [],
   "source": [
    "albany_df = df[df['region']==\"Albany\"]\n",
    "albany_df.set_index(\"Date\", inplace=True)\n",
    "\n",
    "albany_df[\"AveragePrice\"].plot()"
   ]
  },
  {
   "cell_type": "code",
   "execution_count": null,
   "metadata": {},
   "outputs": [],
   "source": [
    "albany_df[\"AveragePrice\"].rolling(25).mean().plot()"
   ]
  },
  {
   "cell_type": "code",
   "execution_count": null,
   "metadata": {},
   "outputs": [],
   "source": [
    "albany_df.sort_index(inplace=True)"
   ]
  },
  {
   "cell_type": "code",
   "execution_count": null,
   "metadata": {},
   "outputs": [],
   "source": [
    "albany_df[\"AveragePrice\"].rolling(25).mean().plot()"
   ]
  },
  {
   "cell_type": "code",
   "execution_count": null,
   "metadata": {},
   "outputs": [],
   "source": [
    "albany_df[\"price25ma\"] = albany_df[\"AveragePrice\"].rolling(25).mean()"
   ]
  },
  {
   "cell_type": "code",
   "execution_count": null,
   "metadata": {},
   "outputs": [],
   "source": [
    "albany_df.head()"
   ]
  },
  {
   "cell_type": "code",
   "execution_count": null,
   "metadata": {},
   "outputs": [],
   "source": [
    "albany_df.tail()"
   ]
  },
  {
   "cell_type": "code",
   "execution_count": null,
   "metadata": {},
   "outputs": [],
   "source": [
    "albany_df = df.copy()[df['region']==\"Albany\"]\n",
    "albany_df.set_index('Date', inplace=True)\n",
    "albany_df[\"price25ma\"] = albany_df[\"AveragePrice\"].rolling(25).mean()"
   ]
  },
  {
   "cell_type": "code",
   "execution_count": null,
   "metadata": {},
   "outputs": [],
   "source": [
    "df['region']"
   ]
  },
  {
   "cell_type": "code",
   "execution_count": 13,
   "metadata": {},
   "outputs": [
    {
     "data": {
      "text/plain": [
       "array(['Albany', 'Albany', 'Albany', ..., 'WestTexNewMexico',\n",
       "       'WestTexNewMexico', 'WestTexNewMexico'], dtype=object)"
      ]
     },
     "execution_count": 13,
     "metadata": {},
     "output_type": "execute_result"
    }
   ],
   "source": [
    "df['region'].values"
   ]
  },
  {
   "cell_type": "code",
   "execution_count": 14,
   "metadata": {},
   "outputs": [
    {
     "name": "stdout",
     "output_type": "stream",
     "text": [
      "{'Chicago', 'Indianapolis', 'Boston', 'Northeast', 'Syracuse', 'RaleighGreensboro', 'Seattle', 'HarrisburgScranton', 'Tampa', 'Spokane', 'DallasFtWorth', 'West', 'GrandRapids', 'Charlotte', 'Jacksonville', 'HartfordSpringfield', 'WestTexNewMexico', 'Midsouth', 'Plains', 'Sacramento', 'SanDiego', 'California', 'StLouis', 'SouthCentral', 'Boise', 'LosAngeles', 'Houston', 'Nashville', 'Roanoke', 'SouthCarolina', 'GreatLakes', 'Atlanta', 'CincinnatiDayton', 'MiamiFtLauderdale', 'NorthernNewEngland', 'Philadelphia', 'SanFrancisco', 'Orlando', 'NewOrleansMobile', 'BaltimoreWashington', 'Pittsburgh', 'Columbus', 'Southeast', 'Detroit', 'TotalUS', 'Louisville', 'LasVegas', 'RichmondNorfolk', 'Albany', 'BuffaloRochester', 'NewYork', 'Denver', 'Portland', 'PhoenixTucson'}\n"
     ]
    }
   ],
   "source": [
    "df['region'].values.tolist()\n",
    "\n",
    "# and then maybe get the uniques with:\n",
    "\n",
    "print(set(df['region'].values.tolist()))"
   ]
  },
  {
   "cell_type": "code",
   "execution_count": 15,
   "metadata": {},
   "outputs": [
    {
     "data": {
      "text/plain": [
       "array(['Albany', 'Atlanta', 'BaltimoreWashington', 'Boise', 'Boston',\n",
       "       'BuffaloRochester', 'California', 'Charlotte', 'Chicago',\n",
       "       'CincinnatiDayton', 'Columbus', 'DallasFtWorth', 'Denver',\n",
       "       'Detroit', 'GrandRapids', 'GreatLakes', 'HarrisburgScranton',\n",
       "       'HartfordSpringfield', 'Houston', 'Indianapolis', 'Jacksonville',\n",
       "       'LasVegas', 'LosAngeles', 'Louisville', 'MiamiFtLauderdale',\n",
       "       'Midsouth', 'Nashville', 'NewOrleansMobile', 'NewYork',\n",
       "       'Northeast', 'NorthernNewEngland', 'Orlando', 'Philadelphia',\n",
       "       'PhoenixTucson', 'Pittsburgh', 'Plains', 'Portland',\n",
       "       'RaleighGreensboro', 'RichmondNorfolk', 'Roanoke', 'Sacramento',\n",
       "       'SanDiego', 'SanFrancisco', 'Seattle', 'SouthCarolina',\n",
       "       'SouthCentral', 'Southeast', 'Spokane', 'StLouis', 'Syracuse',\n",
       "       'Tampa', 'TotalUS', 'West', 'WestTexNewMexico'], dtype=object)"
      ]
     },
     "execution_count": 15,
     "metadata": {},
     "output_type": "execute_result"
    }
   ],
   "source": [
    "df['region'].unique()"
   ]
  },
  {
   "cell_type": "code",
   "execution_count": 16,
   "metadata": {},
   "outputs": [
    {
     "name": "stdout",
     "output_type": "stream",
     "text": [
      "Albany\n",
      "Atlanta\n",
      "BaltimoreWashington\n",
      "Boise\n",
      "Boston\n",
      "BuffaloRochester\n",
      "California\n",
      "Charlotte\n",
      "Chicago\n",
      "CincinnatiDayton\n",
      "Columbus\n",
      "DallasFtWorth\n",
      "Denver\n",
      "Detroit\n",
      "GrandRapids\n",
      "GreatLakes\n"
     ]
    }
   ],
   "source": [
    "graph_df = pd.DataFrame()\n",
    "\n",
    "for region in df['region'].unique()[:16]:\n",
    "    print(region)\n",
    "    region_df = df.copy()[df['region']==region]\n",
    "    region_df.set_index('Date', inplace=True)\n",
    "    region_df.sort_index(inplace=True)\n",
    "    region_df[f\"{region}_price25ma\"] = region_df[\"AveragePrice\"].rolling(25).mean()\n",
    "\n",
    "    if graph_df.empty:\n",
    "        graph_df = region_df[[f\"{region}_price25ma\"]]  # note the double square brackets!\n",
    "    else:\n",
    "        graph_df = graph_df.join(region_df[f\"{region}_price25ma\"])"
   ]
  },
  {
   "cell_type": "code",
   "execution_count": 17,
   "metadata": {},
   "outputs": [
    {
     "data": {
      "text/html": [
       "<div>\n",
       "<style scoped>\n",
       "    .dataframe tbody tr th:only-of-type {\n",
       "        vertical-align: middle;\n",
       "    }\n",
       "\n",
       "    .dataframe tbody tr th {\n",
       "        vertical-align: top;\n",
       "    }\n",
       "\n",
       "    .dataframe thead th {\n",
       "        text-align: right;\n",
       "    }\n",
       "</style>\n",
       "<table border=\"1\" class=\"dataframe\">\n",
       "  <thead>\n",
       "    <tr style=\"text-align: right;\">\n",
       "      <th></th>\n",
       "      <th>Albany_price25ma</th>\n",
       "      <th>Atlanta_price25ma</th>\n",
       "      <th>BaltimoreWashington_price25ma</th>\n",
       "      <th>Boise_price25ma</th>\n",
       "      <th>Boston_price25ma</th>\n",
       "      <th>BuffaloRochester_price25ma</th>\n",
       "      <th>California_price25ma</th>\n",
       "      <th>Charlotte_price25ma</th>\n",
       "      <th>Chicago_price25ma</th>\n",
       "      <th>CincinnatiDayton_price25ma</th>\n",
       "      <th>Columbus_price25ma</th>\n",
       "      <th>DallasFtWorth_price25ma</th>\n",
       "      <th>Denver_price25ma</th>\n",
       "      <th>Detroit_price25ma</th>\n",
       "      <th>GrandRapids_price25ma</th>\n",
       "      <th>GreatLakes_price25ma</th>\n",
       "    </tr>\n",
       "    <tr>\n",
       "      <th>Date</th>\n",
       "      <th></th>\n",
       "      <th></th>\n",
       "      <th></th>\n",
       "      <th></th>\n",
       "      <th></th>\n",
       "      <th></th>\n",
       "      <th></th>\n",
       "      <th></th>\n",
       "      <th></th>\n",
       "      <th></th>\n",
       "      <th></th>\n",
       "      <th></th>\n",
       "      <th></th>\n",
       "      <th></th>\n",
       "      <th></th>\n",
       "      <th></th>\n",
       "    </tr>\n",
       "  </thead>\n",
       "  <tbody>\n",
       "    <tr>\n",
       "      <th>2018-03-25</th>\n",
       "      <td>1.4368</td>\n",
       "      <td>1.2884</td>\n",
       "      <td>1.3844</td>\n",
       "      <td>1.5016</td>\n",
       "      <td>1.588</td>\n",
       "      <td>1.2232</td>\n",
       "      <td>1.4232</td>\n",
       "      <td>1.4916</td>\n",
       "      <td>1.5708</td>\n",
       "      <td>1.2792</td>\n",
       "      <td>1.1704</td>\n",
       "      <td>1.118</td>\n",
       "      <td>1.2888</td>\n",
       "      <td>1.1492</td>\n",
       "      <td>1.3264</td>\n",
       "      <td>1.2788</td>\n",
       "    </tr>\n",
       "    <tr>\n",
       "      <th>2018-03-25</th>\n",
       "      <td>1.4368</td>\n",
       "      <td>1.2884</td>\n",
       "      <td>1.3844</td>\n",
       "      <td>1.5016</td>\n",
       "      <td>1.588</td>\n",
       "      <td>1.2232</td>\n",
       "      <td>1.4232</td>\n",
       "      <td>1.4916</td>\n",
       "      <td>1.5708</td>\n",
       "      <td>1.2792</td>\n",
       "      <td>1.1704</td>\n",
       "      <td>1.118</td>\n",
       "      <td>1.2888</td>\n",
       "      <td>1.1728</td>\n",
       "      <td>1.3164</td>\n",
       "      <td>1.2568</td>\n",
       "    </tr>\n",
       "    <tr>\n",
       "      <th>2018-03-25</th>\n",
       "      <td>1.4368</td>\n",
       "      <td>1.2884</td>\n",
       "      <td>1.3844</td>\n",
       "      <td>1.5016</td>\n",
       "      <td>1.588</td>\n",
       "      <td>1.2232</td>\n",
       "      <td>1.4232</td>\n",
       "      <td>1.4916</td>\n",
       "      <td>1.5708</td>\n",
       "      <td>1.2792</td>\n",
       "      <td>1.1704</td>\n",
       "      <td>1.118</td>\n",
       "      <td>1.2888</td>\n",
       "      <td>1.1728</td>\n",
       "      <td>1.3164</td>\n",
       "      <td>1.2788</td>\n",
       "    </tr>\n",
       "    <tr>\n",
       "      <th>2018-03-25</th>\n",
       "      <td>1.4368</td>\n",
       "      <td>1.2884</td>\n",
       "      <td>1.3844</td>\n",
       "      <td>1.5016</td>\n",
       "      <td>1.588</td>\n",
       "      <td>1.2232</td>\n",
       "      <td>1.4232</td>\n",
       "      <td>1.4916</td>\n",
       "      <td>1.5708</td>\n",
       "      <td>1.2792</td>\n",
       "      <td>1.1704</td>\n",
       "      <td>1.118</td>\n",
       "      <td>1.2888</td>\n",
       "      <td>1.1728</td>\n",
       "      <td>1.3264</td>\n",
       "      <td>1.2568</td>\n",
       "    </tr>\n",
       "    <tr>\n",
       "      <th>2018-03-25</th>\n",
       "      <td>1.4368</td>\n",
       "      <td>1.2884</td>\n",
       "      <td>1.3844</td>\n",
       "      <td>1.5016</td>\n",
       "      <td>1.588</td>\n",
       "      <td>1.2232</td>\n",
       "      <td>1.4232</td>\n",
       "      <td>1.4916</td>\n",
       "      <td>1.5708</td>\n",
       "      <td>1.2792</td>\n",
       "      <td>1.1704</td>\n",
       "      <td>1.118</td>\n",
       "      <td>1.2888</td>\n",
       "      <td>1.1728</td>\n",
       "      <td>1.3264</td>\n",
       "      <td>1.2788</td>\n",
       "    </tr>\n",
       "  </tbody>\n",
       "</table>\n",
       "</div>"
      ],
      "text/plain": [
       "            Albany_price25ma  Atlanta_price25ma  \\\n",
       "Date                                              \n",
       "2018-03-25            1.4368             1.2884   \n",
       "2018-03-25            1.4368             1.2884   \n",
       "2018-03-25            1.4368             1.2884   \n",
       "2018-03-25            1.4368             1.2884   \n",
       "2018-03-25            1.4368             1.2884   \n",
       "\n",
       "            BaltimoreWashington_price25ma  Boise_price25ma  Boston_price25ma  \\\n",
       "Date                                                                           \n",
       "2018-03-25                         1.3844           1.5016             1.588   \n",
       "2018-03-25                         1.3844           1.5016             1.588   \n",
       "2018-03-25                         1.3844           1.5016             1.588   \n",
       "2018-03-25                         1.3844           1.5016             1.588   \n",
       "2018-03-25                         1.3844           1.5016             1.588   \n",
       "\n",
       "            BuffaloRochester_price25ma  California_price25ma  \\\n",
       "Date                                                           \n",
       "2018-03-25                      1.2232                1.4232   \n",
       "2018-03-25                      1.2232                1.4232   \n",
       "2018-03-25                      1.2232                1.4232   \n",
       "2018-03-25                      1.2232                1.4232   \n",
       "2018-03-25                      1.2232                1.4232   \n",
       "\n",
       "            Charlotte_price25ma  Chicago_price25ma  \\\n",
       "Date                                                 \n",
       "2018-03-25               1.4916             1.5708   \n",
       "2018-03-25               1.4916             1.5708   \n",
       "2018-03-25               1.4916             1.5708   \n",
       "2018-03-25               1.4916             1.5708   \n",
       "2018-03-25               1.4916             1.5708   \n",
       "\n",
       "            CincinnatiDayton_price25ma  Columbus_price25ma  \\\n",
       "Date                                                         \n",
       "2018-03-25                      1.2792              1.1704   \n",
       "2018-03-25                      1.2792              1.1704   \n",
       "2018-03-25                      1.2792              1.1704   \n",
       "2018-03-25                      1.2792              1.1704   \n",
       "2018-03-25                      1.2792              1.1704   \n",
       "\n",
       "            DallasFtWorth_price25ma  Denver_price25ma  Detroit_price25ma  \\\n",
       "Date                                                                       \n",
       "2018-03-25                    1.118            1.2888             1.1492   \n",
       "2018-03-25                    1.118            1.2888             1.1728   \n",
       "2018-03-25                    1.118            1.2888             1.1728   \n",
       "2018-03-25                    1.118            1.2888             1.1728   \n",
       "2018-03-25                    1.118            1.2888             1.1728   \n",
       "\n",
       "            GrandRapids_price25ma  GreatLakes_price25ma  \n",
       "Date                                                     \n",
       "2018-03-25                 1.3264                1.2788  \n",
       "2018-03-25                 1.3164                1.2568  \n",
       "2018-03-25                 1.3164                1.2788  \n",
       "2018-03-25                 1.3264                1.2568  \n",
       "2018-03-25                 1.3264                1.2788  "
      ]
     },
     "execution_count": 17,
     "metadata": {},
     "output_type": "execute_result"
    }
   ],
   "source": [
    "graph_df.tail()"
   ]
  },
  {
   "cell_type": "code",
   "execution_count": 2,
   "metadata": {},
   "outputs": [
    {
     "ename": "NameError",
     "evalue": "name 'graph_df' is not defined",
     "output_type": "error",
     "traceback": [
      "\u001b[1;31m---------------------------------------------------------------------------\u001b[0m",
      "\u001b[1;31mNameError\u001b[0m                                 Traceback (most recent call last)",
      "\u001b[1;32m<ipython-input-2-831ab1b62fb6>\u001b[0m in \u001b[0;36m<module>\u001b[1;34m\u001b[0m\n\u001b[1;32m----> 1\u001b[1;33m \u001b[0mgraph_df\u001b[0m\u001b[1;33m.\u001b[0m\u001b[0mplot\u001b[0m\u001b[1;33m(\u001b[0m\u001b[0mfigsize\u001b[0m\u001b[1;33m=\u001b[0m\u001b[1;33m(\u001b[0m\u001b[1;36m8\u001b[0m\u001b[1;33m,\u001b[0m\u001b[1;36m5\u001b[0m\u001b[1;33m)\u001b[0m\u001b[1;33m,\u001b[0m \u001b[0mlegend\u001b[0m\u001b[1;33m=\u001b[0m\u001b[1;32mFalse\u001b[0m\u001b[1;33m)\u001b[0m\u001b[1;33m\u001b[0m\u001b[1;33m\u001b[0m\u001b[0m\n\u001b[0m",
      "\u001b[1;31mNameError\u001b[0m: name 'graph_df' is not defined"
     ]
    }
   ],
   "source": [
    "graph_df.plot(figsize=(8,5), legend=False)"
   ]
  },
  {
   "cell_type": "code",
   "execution_count": null,
   "metadata": {},
   "outputs": [],
   "source": []
  }
 ],
 "metadata": {
  "kernelspec": {
   "display_name": "Python 3",
   "language": "python",
   "name": "python3"
  },
  "language_info": {
   "codemirror_mode": {
    "name": "ipython",
    "version": 3
   },
   "file_extension": ".py",
   "mimetype": "text/x-python",
   "name": "python",
   "nbconvert_exporter": "python",
   "pygments_lexer": "ipython3",
   "version": "3.7.1"
  }
 },
 "nbformat": 4,
 "nbformat_minor": 2
}
